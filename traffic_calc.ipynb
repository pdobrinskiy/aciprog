{
 "cells": [
  {
   "cell_type": "code",
   "execution_count": 2,
   "metadata": {},
   "outputs": [],
   "source": [
    "import json\n",
    "import re\n",
    "import pandas as pd\n",
    "import requests\n",
    "import matplotlib.pyplot as plt\n",
    "import numpy as np\n",
    "from datetime import datetime\n",
    "\n",
    "# - amount of largest results\n",
    "take = 40\n",
    "\n",
    "#admin = 'admin'\n",
    "#passwd = '!v3G@!4@Y'\n",
    "#apicip = 'sandboxapicdc.cisco.com'\n",
    "\n",
    "\n",
    "\n",
    "get_in_packets_url = 'https://' + apicip + '/api/class/eqptIngrPkts5min.json?rsp-subtree=full'\n",
    "get_in_bytes_url = 'https://' + apicip + '/api/class/eqptIngrBytes5min.json?rsp-subtree=full'\n",
    "\n",
    "get_out_packets_url = 'https://' + apicip + '/api/class/eqptEgrPkts5min.json?rsp-subtree=full'\n",
    "get_out_bytes_url = 'https://' + apicip + '/api/class/eqptEgrBytes5min.json?rsp-subtree=full'\n",
    "\n",
    "\n",
    "def get_token():\n",
    "   url = 'https://'+apicip+'/api/aaaLogin.json'\n",
    "\n",
    "   payload = {\n",
    "      \"aaaUser\": {\n",
    "         \"attributes\": {\n",
    "            \"name\": admin,\n",
    "            \"pwd\": passwd\n",
    "         }\n",
    "      }\n",
    "   }\n",
    "\n",
    "   headers = {\n",
    "      \"Content-Type\" : \"application/json\"\n",
    "   }\n",
    "   requests.packages.urllib3.disable_warnings()\n",
    "   response = requests.post(url,data=json.dumps(payload), headers=headers, verify=False).json()\n",
    "\n",
    "   token = response['imdata'][0]['aaaLogin']['attributes']['token']\n",
    "   return token\n",
    "\n",
    "\n",
    "def get_data(url):\n",
    "   token = get_token()\n",
    "\n",
    "\n",
    "\n",
    "   headers = {\n",
    "      \"Cookie\" : f\"APIC-Cookie={token}\",\n",
    "   }\n",
    "\n",
    "   requests.packages.urllib3.disable_warnings()\n",
    "   response = requests.get(url, headers=headers, verify=False)\n",
    " #proxies=dict(http='socks5://127.0.0.1:1111', https='socks5://127.0.0.1:1111')\n",
    "   return response\n",
    "\n",
    "\n",
    "\n",
    "\n",
    "\n"
   ]
  },
  {
   "cell_type": "code",
   "execution_count": 3,
   "metadata": {},
   "outputs": [],
   "source": [
    "now = datetime.now()\n",
    " \n",
    "dt_string = now.strftime(\"%d_%m_%Y_%H.%M\")"
   ]
  },
  {
   "cell_type": "markdown",
   "metadata": {},
   "source": [
    "# get unicast ingress packets"
   ]
  },
  {
   "cell_type": "code",
   "execution_count": 4,
   "metadata": {},
   "outputs": [],
   "source": [
    "\n",
    "\n",
    "\n",
    "\n",
    "\n",
    "pkts_in_df = pd.DataFrame(columns=['pod','node','iface','unicastRate'],dtype='str')\n",
    "pkts_in_df = pkts_in_df.astype({\"unicastRate\": float})\n",
    "\n",
    "response = get_data(get_in_packets_url).json()\n",
    "\n",
    "pgs = response['imdata']\n",
    "\n",
    "p1 = re.compile(r'^topology\\/(?P<pod>pod\\-\\d)\\/(?P<node>node\\-\\d*)\\/sys\\/\\S*\\-\\S*\\[(?P<iface>\\S*\\d)\\]')\n",
    "\n",
    "for pg in pgs:\n",
    "    unicastRate = pg['eqptIngrPkts5min']['attributes']['unicastRate']\n",
    "    dn = pg['eqptIngrPkts5min']['attributes']['dn']\n",
    "    m = p1.match(dn)\n",
    "    groups = m.groupdict()\n",
    "    id = groups['node'] + '-' + groups['iface']\n",
    "    pkts_in_df = pkts_in_df.append({'pod': groups['pod'] , 'node': groups['node'], 'iface': groups['iface'], 'id': id, 'unicastRate': unicastRate },ignore_index=True)\n",
    "    \n",
    "    \n",
    "    "
   ]
  },
  {
   "cell_type": "code",
   "execution_count": 5,
   "metadata": {},
   "outputs": [],
   "source": [
    "pkts_in_df = pkts_in_df.astype({\"unicastRate\": float})\n",
    "\n",
    "pkts_in_df.drop(pkts_in_df[pkts_in_df.unicastRate < 100].index, inplace=True)\n",
    "\n",
    "pkts_in_df = pkts_in_df.astype({\"unicastRate\": int})\n",
    "pkts_in_df= pkts_in_df.sort_values('unicastRate',ascending=False)"
   ]
  },
  {
   "cell_type": "markdown",
   "metadata": {},
   "source": [
    "## Packets in overall "
   ]
  },
  {
   "cell_type": "code",
   "execution_count": 6,
   "metadata": {},
   "outputs": [
    {
     "data": {
      "image/png": "[encoded data removed]",
      "text/plain": [
       "<Figure size 1008x648 with 1 Axes>"
      ]
     },
     "metadata": {
      "needs_background": "light"
     },
     "output_type": "display_data"
    }
   ],
   "source": [
    "zz = pkts_in_df.head(take)\n",
    "fig, axs = plt.subplots(figsize=(14, 9))\n",
    "axs.set_ylabel(\"Pkts/s\")\n",
    "axs.set_facecolor('silver')\n",
    "plt.rc('grid', linestyle=\"-\", color='black')\n",
    "plt.grid(True)\n",
    "\n",
    "zz.plot.bar(x='id',rot=90,ax=axs)\n",
    "axs.text(20, 200000000, f\"Packets IN overall - {take} largest\", fontsize = 22,bbox = dict(facecolor = 'yellow', alpha = 0.5))\n",
    "fig.savefig(f\"results/pkts_in_overall_{dt_string}.png\")"
   ]
  },
  {
   "cell_type": "markdown",
   "metadata": {},
   "source": [
    "## Packets in - physical interfaces  "
   ]
  },
  {
   "cell_type": "code",
   "execution_count": 7,
   "metadata": {},
   "outputs": [],
   "source": [
    "z_phys_df=pkts_in_df.loc[pkts_in_df['iface'].str.contains(\"eth\")]"
   ]
  },
  {
   "cell_type": "code",
   "execution_count": 9,
   "metadata": {},
   "outputs": [
    {
     "ename": "NameError",
     "evalue": "name 'pkts_in_phys_df' is not defined",
     "output_type": "error",
     "traceback": [
      "\u001b[1;31m---------------------------------------------------------------------------\u001b[0m",
      "\u001b[1;31mNameError\u001b[0m                                 Traceback (most recent call last)",
      "\u001b[1;32m<ipython-input-9-adbb33449745>\u001b[0m in \u001b[0;36m<module>\u001b[1;34m\u001b[0m\n\u001b[0;32m      1\u001b[0m \u001b[0mtake\u001b[0m \u001b[1;33m=\u001b[0m \u001b[1;36m40\u001b[0m\u001b[1;33m\u001b[0m\u001b[1;33m\u001b[0m\u001b[0m\n\u001b[1;32m----> 2\u001b[1;33m \u001b[0mzz\u001b[0m \u001b[1;33m=\u001b[0m \u001b[0mpkts_in_phys_df\u001b[0m\u001b[1;33m.\u001b[0m\u001b[0mhead\u001b[0m\u001b[1;33m(\u001b[0m\u001b[0mtake\u001b[0m\u001b[1;33m)\u001b[0m\u001b[1;33m\u001b[0m\u001b[1;33m\u001b[0m\u001b[0m\n\u001b[0m",
      "\u001b[1;31mNameError\u001b[0m: name 'pkts_in_phys_df' is not defined"
     ]
    }
   ],
   "source": [
    "take = 40\n",
    "zz = pkts_in_phys_df.head(take)"
   ]
  },
  {
   "cell_type": "code",
   "execution_count": 10,
   "metadata": {},
   "outputs": [
    {
     "data": {
      "image/png": "[encoded data removed]",
      "text/plain": [
       "<Figure size 1008x648 with 1 Axes>"
      ]
     },
     "metadata": {
      "needs_background": "light"
     },
     "output_type": "display_data"
    }
   ],
   "source": [
    "fig, axs = plt.subplots(figsize=(14, 9))\n",
    "axs.set_ylabel(\"Pkts/s\")\n",
    "axs.set_facecolor('silver')\n",
    "plt.rc('grid', linestyle=\"-\", color='black')\n",
    "plt.grid(True)\n",
    "\n",
    "zz.plot.bar(x='id',rot=90,ax=axs)\n",
    "axs.text(10, 700000, f\"Packets IN - physical interfaces - {take} largest\", fontsize = 22,bbox = dict(facecolor = 'red', alpha = 0.5))\n",
    "fig.savefig(f\"results/pkts_in_physical_{dt_string}.png\")"
   ]
  },
  {
   "cell_type": "markdown",
   "metadata": {},
   "source": [
    "# get unicast ingress bytes"
   ]
  },
  {
   "cell_type": "code",
   "execution_count": null,
   "metadata": {},
   "outputs": [],
   "source": [
    "bytes_in_df = pd.DataFrame(columns=['pod','node','iface','unicastRate'],dtype='str')\n",
    "bytes_in_df = bytes_in_df.astype({\"unicastRate\": float})\n",
    "\n",
    "response = get_data(get_in_bytes_url).json()\n",
    "\n",
    "pgs = response['imdata']\n",
    "\n",
    "p1 = re.compile(r'^topology\\/(?P<pod>pod\\-\\d)\\/(?P<node>node\\-\\d*)\\/sys\\/\\S*\\-\\S*\\[(?P<iface>\\S*\\d)\\]')\n",
    "\n",
    "for pg in pgs:\n",
    "    unicastRate = pg['eqptIngrBytes5min']['attributes']['unicastRate']\n",
    "    dn = pg['eqptIngrBytes5min']['attributes']['dn']\n",
    "    m = p1.match(dn)\n",
    "    groups = m.groupdict()\n",
    "    id = groups['node'] + '-' + groups['iface']\n",
    "    bytes_in_df = bytes_in_df.append({'pod': groups['pod'] , 'node': groups['node'], 'iface': groups['iface'], 'id': id, 'unicastRate': unicastRate },ignore_index=True)\n",
    "    \n",
    "    "
   ]
  },
  {
   "cell_type": "code",
   "execution_count": null,
   "metadata": {},
   "outputs": [],
   "source": [
    "bytes_in_df = bytes_in_df.astype({\"unicastRate\": float})\n",
    "\n",
    "bytes_in_df['unicastRate'] = bytes_in_df['unicastRate'] /1000000 \n",
    "bytes_in_df.drop(bytes_in_df[bytes_in_df.unicastRate < 1].index, inplace=True)\n",
    "\n",
    "bytes_in_df = bytes_in_df.astype({\"unicastRate\": int})\n",
    "bytes_in_df= bytes_in_df.sort_values('unicastRate',ascending=False)"
   ]
  },
  {
   "cell_type": "code",
   "execution_count": null,
   "metadata": {},
   "outputs": [],
   "source": [
    "bytes_in_df"
   ]
  },
  {
   "cell_type": "code",
   "execution_count": null,
   "metadata": {},
   "outputs": [],
   "source": [
    "zz = bytes_in_df.head(take)\n",
    "fig, axs = plt.subplots(figsize=(14, 9))\n",
    "axs.set_ylabel(\"Mbytes/s\")\n",
    "axs.set_facecolor('silver')\n",
    "plt.rc('grid', linestyle=\"-\", color='black')\n",
    "plt.grid(True)\n",
    "\n",
    "zz.plot.bar(x='id',rot=90,ax=axs, color='green')\n",
    "axs.text(20, 120, f\"Mbytes/s IN - {take} largest\", fontsize = 22,bbox = dict(facecolor = 'orange', alpha = 0.5))\n",
    "fig.savefig(f\"results/mbytes_in_overall_{dt_string}.png\")\n"
   ]
  },
  {
   "cell_type": "markdown",
   "metadata": {},
   "source": [
    "# get unicast egress packets"
   ]
  },
  {
   "cell_type": "code",
   "execution_count": null,
   "metadata": {},
   "outputs": [],
   "source": [
    "pkts_out_df = pd.DataFrame(columns=['pod','node','iface','unicastRate'],dtype='str')\n",
    "pkts_out_df = pkts_out_df.astype({\"unicastRate\": float})\n",
    "\n",
    "response = get_data(get_out_packets_url).json()\n",
    "\n",
    "pgs = response['imdata']\n",
    "\n",
    "p1 = re.compile(r'^topology\\/(?P<pod>pod\\-\\d)\\/(?P<node>node\\-\\d*)\\/sys\\/\\S*\\-\\S*\\[(?P<iface>\\S*\\d)\\]')\n",
    "\n",
    "for pg in pgs:\n",
    "    unicastRate = pg['eqptEgrPkts5min']['attributes']['unicastRate']\n",
    "    dn = pg['eqptEgrPkts5min']['attributes']['dn']\n",
    "    m = p1.match(dn)\n",
    "    groups = m.groupdict()\n",
    "    id = groups['node'] + '-' + groups['iface']\n",
    "    pkts_out_df = pkts_out_df.append({'pod': groups['pod'] , 'node': groups['node'], 'iface': groups['iface'], 'id': id, 'unicastRate': unicastRate },ignore_index=True)\n",
    "    \n",
    "    "
   ]
  },
  {
   "cell_type": "code",
   "execution_count": null,
   "metadata": {},
   "outputs": [],
   "source": [
    "pkts_out_df = pkts_out_df.astype({\"unicastRate\": float})\n",
    "\n",
    "pkts_out_df.drop(pkts_out_df[pkts_out_df.unicastRate < 100].index, inplace=True)\n",
    "\n",
    "pkts_out_df = pkts_out_df.astype({\"unicastRate\": int})\n",
    "pkts_out_df= pkts_out_df.sort_values('unicastRate',ascending=False)"
   ]
  },
  {
   "cell_type": "code",
   "execution_count": null,
   "metadata": {},
   "outputs": [],
   "source": []
  },
  {
   "cell_type": "markdown",
   "metadata": {},
   "source": [
    "## Packets out overall "
   ]
  },
  {
   "cell_type": "code",
   "execution_count": null,
   "metadata": {},
   "outputs": [],
   "source": [
    "zz = pkts_out_df.head(take)\n",
    "fig, axs = plt.subplots(figsize=(14, 9))\n",
    "axs.set_ylabel(\"Pkts/s\")\n",
    "\n",
    "axs.set_facecolor('silver')\n",
    "plt.rc('grid', linestyle=\"-\", color='black')\n",
    "plt.grid(True)\n",
    "\n",
    "zz.plot.bar(x='id',rot=90,ax=axs,color='red')\n",
    "axs.text(20, 400000, f\"Packets OUT overall - {take} largest\", fontsize = 22,bbox = dict(facecolor = 'green', alpha = 0.5))\n",
    "fig.savefig(f\"results/pkts_out_overall_{dt_string}.png\")"
   ]
  },
  {
   "cell_type": "markdown",
   "metadata": {},
   "source": [
    "# get unicast egress bytes"
   ]
  },
  {
   "cell_type": "code",
   "execution_count": null,
   "metadata": {},
   "outputs": [],
   "source": [
    "bytes_out_df = pd.DataFrame(columns=['pod','node','iface','unicastRate'],dtype='str')\n",
    "bytes_out_df = bytes_out_df.astype({\"unicastRate\": float})\n",
    "\n",
    "response = get_data(get_out_bytes_url).json()\n",
    "\n",
    "pgs = response['imdata']\n",
    "\n",
    "p1 = re.compile(r'^topology\\/(?P<pod>pod\\-\\d)\\/(?P<node>node\\-\\d*)\\/sys\\/\\S*\\-\\S*\\[(?P<iface>\\S*\\d)\\]')\n",
    "\n",
    "for pg in pgs:\n",
    "    unicastRate = pg['eqptEgrBytes5min']['attributes']['unicastRate']\n",
    "    dn = pg['eqptEgrBytes5min']['attributes']['dn']\n",
    "    m = p1.match(dn)\n",
    "    groups = m.groupdict()\n",
    "    id = groups['node'] + '-' + groups['iface']\n",
    "    bytes_out_df = bytes_out_df.append({'pod': groups['pod'] , 'node': groups['node'], 'iface': groups['iface'], 'id': id, 'unicastRate': unicastRate },ignore_index=True)\n",
    "    "
   ]
  },
  {
   "cell_type": "code",
   "execution_count": null,
   "metadata": {},
   "outputs": [],
   "source": [
    "bytes_out_df = bytes_out_df.astype({\"unicastRate\": float})\n",
    "\n",
    "bytes_out_df['unicastRate'] = bytes_out_df['unicastRate']/1000000\n",
    "bytes_out_df.drop(bytes_out_df[bytes_out_df.unicastRate < 2].index, inplace=True)\n",
    "\n",
    "bytes_out_df = bytes_out_df.astype({\"unicastRate\": int})\n",
    "bytes_out_df= bytes_out_df.sort_values('unicastRate',ascending=False)"
   ]
  },
  {
   "cell_type": "code",
   "execution_count": null,
   "metadata": {},
   "outputs": [],
   "source": [
    "bytes_out_df"
   ]
  },
  {
   "cell_type": "code",
   "execution_count": null,
   "metadata": {},
   "outputs": [],
   "source": [
    "zz = bytes_out_df.head(take)\n",
    "fig, axs = plt.subplots(figsize=(14, 9))\n",
    "axs.set_ylabel(\"Mbytes/s\")\n",
    "axs.set_facecolor('silver')\n",
    "plt.rc('grid', linestyle=\"-\", color='black')\n",
    "plt.grid(True)\n",
    "\n",
    "zz.plot.bar(x='id',rot=90,ax=axs, color='orange')\n",
    "axs.text(20, 220, f\"Mbytes/s OUT overall- {take} largest\", fontsize = 22,bbox = dict(facecolor = 'gray', alpha = 0.5))\n",
    "fig.savefig(f\"results/mbytes_out_overall_{dt_string}.png\")"
   ]
  },
  {
   "cell_type": "markdown",
   "metadata": {},
   "source": [
    "## Packets in - physical interfaces  "
   ]
  },
  {
   "cell_type": "code",
   "execution_count": null,
   "metadata": {},
   "outputs": [],
   "source": [
    "z_phys_df=bytes_out_df.loc[bytes_out_df['iface'].str.contains(\"eth\")]"
   ]
  },
  {
   "cell_type": "code",
   "execution_count": null,
   "metadata": {},
   "outputs": [],
   "source": []
  },
  {
   "cell_type": "code",
   "execution_count": null,
   "metadata": {},
   "outputs": [],
   "source": [
    "zz = z_phys_df.head(take)\n",
    "fig, axs = plt.subplots(figsize=(14, 9))\n",
    "axs.set_ylabel(\"Mbytes/s\")\n",
    "axs.set_facecolor('silver')\n",
    "plt.rc('grid', linestyle=\"-\", color='black')\n",
    "plt.grid(True)\n",
    "\n",
    "\n",
    "zz.plot.bar(x='id',rot=90,ax=axs, color='blue')\n",
    "axs.text(10, 220, f\"Mbytes/s OUT physical interface- {take} largest\", fontsize = 22,bbox = dict(facecolor = 'blue', alpha = 0.5))\n",
    "fig.savefig(f\"results/mbytes_out_physical_{dt_string}.png\")"
   ]
  },
  {
   "cell_type": "code",
   "execution_count": null,
   "metadata": {},
   "outputs": [],
   "source": [
    "ls"
   ]
  },
  {
   "cell_type": "markdown",
   "metadata": {},
   "source": [
    "## SAVE results to file\n"
   ]
  },
  {
   "cell_type": "code",
   "execution_count": null,
   "metadata": {},
   "outputs": [],
   "source": [
    "pkts_in_df.to_csv(f\"results/pkts_in_{dt_string}.csv\")\n",
    "bytes_in_df.to_csv(f\"results/mbytes_in_{dt_string}.csv\")\n",
    "pkts_out_df.to_csv(f\"results/pkts_out_{dt_string}.csv\")\n",
    "bytes_out_df.to_csv(f\"results/bytes_out_{dt_string}.csv\")"
   ]
  },
  {
   "cell_type": "code",
   "execution_count": null,
   "metadata": {},
   "outputs": [],
   "source": []
  }
 ],
 "metadata": {
  "kernelspec": {
   "display_name": "Python 3",
   "language": "python",
   "name": "python3"
  },
  "language_info": {
   "codemirror_mode": {
    "name": "ipython",
    "version": 3
   },
   "file_extension": ".py",
   "mimetype": "text/x-python",
   "name": "python",
   "nbconvert_exporter": "python",
   "pygments_lexer": "ipython3",
   "version": "3.8.5"
  }
 },
 "nbformat": 4,
 "nbformat_minor": 4
}
